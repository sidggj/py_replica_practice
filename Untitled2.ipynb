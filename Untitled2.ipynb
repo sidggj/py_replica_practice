{
 "cells": [
  {
   "cell_type": "code",
   "execution_count": 1,
   "id": "fd3f2e19",
   "metadata": {},
   "outputs": [],
   "source": [
    "A = {1,2,3,4,5,6}\n",
    "B = {6, 7, 8, 9, 10, 11}"
   ]
  },
  {
   "cell_type": "code",
   "execution_count": 2,
   "id": "3d330780",
   "metadata": {},
   "outputs": [
    {
     "data": {
      "text/plain": [
       "21"
      ]
     },
     "execution_count": 2,
     "metadata": {},
     "output_type": "execute_result"
    }
   ],
   "source": [
    "sum(A)"
   ]
  },
  {
   "cell_type": "code",
   "execution_count": 3,
   "id": "8f78eaf5",
   "metadata": {},
   "outputs": [
    {
     "data": {
      "text/plain": [
       "1"
      ]
     },
     "execution_count": 3,
     "metadata": {},
     "output_type": "execute_result"
    }
   ],
   "source": [
    "min(A)"
   ]
  },
  {
   "cell_type": "code",
   "execution_count": 4,
   "id": "37f5caa7",
   "metadata": {},
   "outputs": [
    {
     "data": {
      "text/plain": [
       "6"
      ]
     },
     "execution_count": 4,
     "metadata": {},
     "output_type": "execute_result"
    }
   ],
   "source": [
    "max(A)"
   ]
  },
  {
   "cell_type": "code",
   "execution_count": 5,
   "id": "68a99606",
   "metadata": {},
   "outputs": [
    {
     "data": {
      "text/plain": [
       "6"
      ]
     },
     "execution_count": 5,
     "metadata": {},
     "output_type": "execute_result"
    }
   ],
   "source": [
    "len(A)"
   ]
  },
  {
   "cell_type": "code",
   "execution_count": 6,
   "id": "2a936ab4",
   "metadata": {},
   "outputs": [],
   "source": [
    "mydict = {\"A\":\"one\", \"B\":\"two\"}"
   ]
  },
  {
   "cell_type": "code",
   "execution_count": 7,
   "id": "fed5493e",
   "metadata": {},
   "outputs": [
    {
     "data": {
      "text/plain": [
       "dict"
      ]
     },
     "execution_count": 7,
     "metadata": {},
     "output_type": "execute_result"
    }
   ],
   "source": [
    "type(mydict)"
   ]
  },
  {
   "cell_type": "code",
   "execution_count": 8,
   "id": "f66c2a3a",
   "metadata": {},
   "outputs": [
    {
     "data": {
      "text/plain": [
       "2"
      ]
     },
     "execution_count": 8,
     "metadata": {},
     "output_type": "execute_result"
    }
   ],
   "source": [
    "len(mydict)"
   ]
  },
  {
   "cell_type": "code",
   "execution_count": 9,
   "id": "36c066fb",
   "metadata": {},
   "outputs": [
    {
     "data": {
      "text/plain": [
       "'A'"
      ]
     },
     "execution_count": 9,
     "metadata": {},
     "output_type": "execute_result"
    }
   ],
   "source": [
    "min(mydict)"
   ]
  },
  {
   "cell_type": "code",
   "execution_count": 13,
   "id": "f587642f",
   "metadata": {},
   "outputs": [
    {
     "data": {
      "text/plain": [
       "'B'"
      ]
     },
     "execution_count": 13,
     "metadata": {},
     "output_type": "execute_result"
    }
   ],
   "source": [
    "max(mydict)"
   ]
  },
  {
   "cell_type": "code",
   "execution_count": 14,
   "id": "d7e3d28f",
   "metadata": {},
   "outputs": [
    {
     "data": {
      "text/plain": [
       "2744557404032"
      ]
     },
     "execution_count": 14,
     "metadata": {},
     "output_type": "execute_result"
    }
   ],
   "source": [
    "id(mydict)"
   ]
  },
  {
   "cell_type": "code",
   "execution_count": 16,
   "id": "adfcb522",
   "metadata": {},
   "outputs": [
    {
     "data": {
      "text/plain": [
       "dict_keys(['A', 'B'])"
      ]
     },
     "execution_count": 16,
     "metadata": {},
     "output_type": "execute_result"
    }
   ],
   "source": [
    "mydict.keys()"
   ]
  },
  {
   "cell_type": "code",
   "execution_count": 18,
   "id": "7b9d6d07",
   "metadata": {},
   "outputs": [
    {
     "data": {
      "text/plain": [
       "dict_values(['one', 'two'])"
      ]
     },
     "execution_count": 18,
     "metadata": {},
     "output_type": "execute_result"
    }
   ],
   "source": [
    "mydict.values()"
   ]
  },
  {
   "cell_type": "code",
   "execution_count": 20,
   "id": "3d2ad4f8",
   "metadata": {},
   "outputs": [
    {
     "data": {
      "text/plain": [
       "dict_items([('A', 'one'), ('B', 'two')])"
      ]
     },
     "execution_count": 20,
     "metadata": {},
     "output_type": "execute_result"
    }
   ],
   "source": [
    "mydict.items()"
   ]
  },
  {
   "cell_type": "code",
   "execution_count": 22,
   "id": "8c1f625c",
   "metadata": {},
   "outputs": [
    {
     "data": {
      "text/plain": [
       "'key not found'"
      ]
     },
     "execution_count": 22,
     "metadata": {},
     "output_type": "execute_result"
    }
   ],
   "source": [
    "mydict.get(1, \"key not found\")"
   ]
  },
  {
   "cell_type": "code",
   "execution_count": 33,
   "id": "22ec53a7",
   "metadata": {},
   "outputs": [],
   "source": [
    "my_dict = {1:\"one\", 2:\"two\", 3:\"three\"}"
   ]
  },
  {
   "cell_type": "code",
   "execution_count": 35,
   "id": "90b09288",
   "metadata": {},
   "outputs": [
    {
     "data": {
      "text/plain": [
       "dict_keys([1, 2, 3])"
      ]
     },
     "execution_count": 35,
     "metadata": {},
     "output_type": "execute_result"
    }
   ],
   "source": [
    "my_dict.keys()"
   ]
  },
  {
   "cell_type": "code",
   "execution_count": 39,
   "id": "f990ee70",
   "metadata": {},
   "outputs": [
    {
     "data": {
      "text/plain": [
       "'three'"
      ]
     },
     "execution_count": 39,
     "metadata": {},
     "output_type": "execute_result"
    }
   ],
   "source": [
    "my_dict.get(3)"
   ]
  },
  {
   "cell_type": "code",
   "execution_count": 40,
   "id": "5aaa6d1d",
   "metadata": {},
   "outputs": [
    {
     "data": {
      "text/plain": [
       "3"
      ]
     },
     "execution_count": 40,
     "metadata": {},
     "output_type": "execute_result"
    }
   ],
   "source": [
    "len(my_dict)"
   ]
  },
  {
   "cell_type": "code",
   "execution_count": 41,
   "id": "34901f09",
   "metadata": {},
   "outputs": [],
   "source": [
    "my_dict1 = {\"name\": \"sid\" , \"id\":2345, \"dob\": 1991}"
   ]
  },
  {
   "cell_type": "code",
   "execution_count": 42,
   "id": "c9554034",
   "metadata": {},
   "outputs": [
    {
     "data": {
      "text/plain": [
       "{'name': 'sid', 'id': 2345, 'dob': 1991}"
      ]
     },
     "execution_count": 42,
     "metadata": {},
     "output_type": "execute_result"
    }
   ],
   "source": [
    "my_dict1"
   ]
  },
  {
   "cell_type": "code",
   "execution_count": 45,
   "id": "d0b268d5",
   "metadata": {},
   "outputs": [
    {
     "data": {
      "text/plain": [
       "'sid'"
      ]
     },
     "execution_count": 45,
     "metadata": {},
     "output_type": "execute_result"
    }
   ],
   "source": [
    "my_dict1[\"name\"]"
   ]
  },
  {
   "cell_type": "code",
   "execution_count": 47,
   "id": "07aed73b",
   "metadata": {},
   "outputs": [
    {
     "data": {
      "text/plain": [
       "2345"
      ]
     },
     "execution_count": 47,
     "metadata": {},
     "output_type": "execute_result"
    }
   ],
   "source": [
    "my_dict1[\"id\"]"
   ]
  },
  {
   "cell_type": "code",
   "execution_count": 48,
   "id": "41db3fac",
   "metadata": {},
   "outputs": [
    {
     "data": {
      "text/plain": [
       "1991"
      ]
     },
     "execution_count": 48,
     "metadata": {},
     "output_type": "execute_result"
    }
   ],
   "source": [
    "my_dict1.get(\"dob\")"
   ]
  },
  {
   "cell_type": "code",
   "execution_count": 55,
   "id": "16f1810d",
   "metadata": {},
   "outputs": [
    {
     "data": {
      "text/plain": [
       "2345"
      ]
     },
     "execution_count": 55,
     "metadata": {},
     "output_type": "execute_result"
    }
   ],
   "source": [
    "my_dict1.get(\"id\")"
   ]
  },
  {
   "cell_type": "code",
   "execution_count": 56,
   "id": "1aff7c07",
   "metadata": {},
   "outputs": [],
   "source": [
    "my_dict1 = {\"name\": \"sid\" , \"id\":2345, \"dob\": 1991}\n"
   ]
  },
  {
   "cell_type": "code",
   "execution_count": 62,
   "id": "f21108a2",
   "metadata": {},
   "outputs": [
    {
     "data": {
      "text/plain": [
       "{'name': 'sid', 'id': 2345, 'dob': 1991, 'address': 'delhi'}"
      ]
     },
     "execution_count": 62,
     "metadata": {},
     "output_type": "execute_result"
    }
   ],
   "source": [
    "# my_dict1[\"dob\"] = 1991\n",
    "# my_dict1[\"address\"] = \"delhi\"\n",
    "# print(my_dict1)\n",
    "dict1 = {\"address\": \"delhi\"}\n",
    "my_dict1.update(dict1)\n",
    "my_dict1"
   ]
  },
  {
   "cell_type": "code",
   "execution_count": 63,
   "id": "71fd72a8",
   "metadata": {},
   "outputs": [
    {
     "data": {
      "text/plain": [
       "('address', 'delhi')"
      ]
     },
     "execution_count": 63,
     "metadata": {},
     "output_type": "execute_result"
    }
   ],
   "source": [
    "my_dict1.popitem() # remove"
   ]
  },
  {
   "cell_type": "code",
   "execution_count": 64,
   "id": "2a7e85a8",
   "metadata": {},
   "outputs": [
    {
     "data": {
      "text/plain": [
       "{'name': 'sid', 'id': 2345, 'dob': 1991}"
      ]
     },
     "execution_count": 64,
     "metadata": {},
     "output_type": "execute_result"
    }
   ],
   "source": [
    "my_dict1"
   ]
  },
  {
   "cell_type": "code",
   "execution_count": 70,
   "id": "dfb5acef",
   "metadata": {},
   "outputs": [],
   "source": [
    "# Write a function volume_cylinder that consumes the diameter in metres and produces the volume of a cylinder of length 2 metres. A function area_circle has been loaded for your convenience.\n",
    "\n",
    "# def area_circle(radius):\n",
    "  #  return math.pi * radius ** 2\n",
    "\n"
   ]
  },
  {
   "cell_type": "code",
   "execution_count": 66,
   "id": "3b840ef7",
   "metadata": {},
   "outputs": [
    {
     "name": "stdout",
     "output_type": "stream",
     "text": [
      "25.132741228718345\n"
     ]
    }
   ],
   "source": [
    "import math\n",
    "\n",
    "def volume_cylinder(diameter,radius=2):\n",
    "  return math.pi * radius * ((diameter // 2) ** 2)\n",
    "\n",
    "print(volume_cylinder(4))\n"
   ]
  },
  {
   "cell_type": "code",
   "execution_count": 67,
   "id": "101281fd",
   "metadata": {},
   "outputs": [
    {
     "data": {
      "text/plain": [
       "{'name': 'sid', 'id': 2345}"
      ]
     },
     "execution_count": 67,
     "metadata": {},
     "output_type": "execute_result"
    }
   ],
   "source": [
    "my_dict1.pop(\"dob\")\n",
    "my_dict1"
   ]
  },
  {
   "cell_type": "code",
   "execution_count": 73,
   "id": "984b53eb",
   "metadata": {},
   "outputs": [
    {
     "ename": "NameError",
     "evalue": "name 'clear' is not defined",
     "output_type": "error",
     "traceback": [
      "\u001b[1;31m---------------------------------------------------------------------------\u001b[0m",
      "\u001b[1;31mNameError\u001b[0m                                 Traceback (most recent call last)",
      "\u001b[1;32mC:\\Users\\DELLLA~1\\AppData\\Local\\Temp/ipykernel_13308/2160144460.py\u001b[0m in \u001b[0;36m<module>\u001b[1;34m\u001b[0m\n\u001b[1;32m----> 1\u001b[1;33m \u001b[0mmy_dict1\u001b[0m\u001b[1;33m(\u001b[0m\u001b[0mclear\u001b[0m\u001b[1;33m)\u001b[0m\u001b[1;33m\u001b[0m\u001b[1;33m\u001b[0m\u001b[0m\n\u001b[0m\u001b[0;32m      2\u001b[0m \u001b[0mmy_dict1\u001b[0m\u001b[1;33m\u001b[0m\u001b[1;33m\u001b[0m\u001b[0m\n",
      "\u001b[1;31mNameError\u001b[0m: name 'clear' is not defined"
     ]
    }
   ],
   "source": []
  },
  {
   "cell_type": "code",
   "execution_count": 1,
   "id": "42e62046",
   "metadata": {},
   "outputs": [
    {
     "name": "stdout",
     "output_type": "stream",
     "text": [
      "Jon Marsh\n"
     ]
    }
   ],
   "source": [
    "print(\"Jon Marsh\")"
   ]
  },
  {
   "cell_type": "markdown",
   "id": "d26fe93a",
   "metadata": {},
   "source": []
  },
  {
   "cell_type": "code",
   "execution_count": 2,
   "id": "b4373cfb",
   "metadata": {},
   "outputs": [
    {
     "name": "stdout",
     "output_type": "stream",
     "text": [
      "3\n"
     ]
    }
   ],
   "source": [
    "mynumber = 3\n",
    "print(mynumber)"
   ]
  },
  {
   "cell_type": "code",
   "execution_count": 4,
   "id": "6c20c9f6",
   "metadata": {},
   "outputs": [
    {
     "ename": "SyntaxError",
     "evalue": "invalid syntax (Temp/ipykernel_17976/833025420.py, line 1)",
     "output_type": "error",
     "traceback": [
      "\u001b[1;36m  File \u001b[1;32m\"C:\\Users\\DELLLA~1\\AppData\\Local\\Temp/ipykernel_17976/833025420.py\"\u001b[1;36m, line \u001b[1;32m1\u001b[0m\n\u001b[1;33m    dict1={\"r\":\"Red\", \"g\":\"Green\", \"b\": :\"Blue\"}\u001b[0m\n\u001b[1;37m                                        ^\u001b[0m\n\u001b[1;31mSyntaxError\u001b[0m\u001b[1;31m:\u001b[0m invalid syntax\n"
     ]
    }
   ],
   "source": [
    "dict1={\"r\":\"Red\", \"g\":\"Green\", \"b\": :\"Blue\"}\n",
    "# str1= \"hello world\"\n",
    "# {v:v.upper() for (k,v) in enumerate(str1)}\n",
    "for k in colors:\n",
    "    print(k)\n",
    "for k in colors:\n",
    "    print(colors[k])\n",
    "for k,v in colors.items():\n",
    "    print(\"key={} values={}\")\n",
    "\n"
   ]
  },
  {
   "cell_type": "code",
   "execution_count": 2,
   "id": "a1a93e9c",
   "metadata": {},
   "outputs": [
    {
     "data": {
      "text/plain": [
       "{4: 8, 5: 9, 6: 7}"
      ]
     },
     "execution_count": 2,
     "metadata": {},
     "output_type": "execute_result"
    }
   ],
   "source": [
    "d3={4,5,6}\n",
    "s1={7,8,9}\n",
    "d2= {x:y for x,y in zip(d3,s1)}\n",
    "d2"
   ]
  },
  {
   "cell_type": "code",
   "execution_count": 9,
   "id": "6d1e3830",
   "metadata": {},
   "outputs": [
    {
     "ename": "ValueError",
     "evalue": "Invalid format specifier",
     "output_type": "error",
     "traceback": [
      "\u001b[1;31m---------------------------------------------------------------------------\u001b[0m",
      "\u001b[1;31mValueError\u001b[0m                                Traceback (most recent call last)",
      "\u001b[1;32mC:\\Users\\DELLLA~1\\AppData\\Local\\Temp/ipykernel_17976/3845405927.py\u001b[0m in \u001b[0;36m<module>\u001b[1;34m\u001b[0m\n\u001b[0;32m      4\u001b[0m \u001b[0mz\u001b[0m\u001b[1;33m=\u001b[0m \u001b[0mzip\u001b[0m\u001b[1;33m(\u001b[0m\u001b[0mcontries\u001b[0m\u001b[1;33m,\u001b[0m \u001b[0mcities\u001b[0m\u001b[1;33m)\u001b[0m\u001b[1;33m\u001b[0m\u001b[1;33m\u001b[0m\u001b[0m\n\u001b[0;32m      5\u001b[0m \u001b[1;31m#d= dict(zip)\u001b[0m\u001b[1;33m\u001b[0m\u001b[1;33m\u001b[0m\u001b[0m\n\u001b[1;32m----> 6\u001b[1;33m \u001b[0mprint\u001b[0m\u001b[1;33m(\u001b[0m\u001b[0mformat\u001b[0m\u001b[1;33m(\u001b[0m\u001b[1;34m\"countries\"\u001b[0m\u001b[1;33m,\u001b[0m \u001b[1;34m\"cities\"\u001b[0m\u001b[1;33m)\u001b[0m\u001b[1;33m)\u001b[0m\u001b[1;33m\u001b[0m\u001b[1;33m\u001b[0m\u001b[0m\n\u001b[0m",
      "\u001b[1;31mValueError\u001b[0m: Invalid format specifier"
     ]
    }
   ],
   "source": [
    "{\"INDIA\"}\n",
    "contries=[\"USA\", \"GERMANY\", \"INDIA\"]\n",
    "cities=[\"Washington\", \"Berlin\", \"Delhi\"]\n",
    "z= zip(contries, cities)\n",
    "#d= dict(zip)\n",
    "print(format(\"countries\", \"cities\"))"
   ]
  },
  {
   "cell_type": "code",
   "execution_count": 11,
   "id": "e61f6bfb",
   "metadata": {},
   "outputs": [
    {
     "ename": "SyntaxError",
     "evalue": "invalid syntax (Temp/ipykernel_17976/3169545139.py, line 2)",
     "output_type": "error",
     "traceback": [
      "\u001b[1;36m  File \u001b[1;32m\"C:\\Users\\DELLLA~1\\AppData\\Local\\Temp/ipykernel_17976/3169545139.py\"\u001b[1;36m, line \u001b[1;32m2\u001b[0m\n\u001b[1;33m    1st=[]\u001b[0m\n\u001b[1;37m     ^\u001b[0m\n\u001b[1;31mSyntaxError\u001b[0m\u001b[1;31m:\u001b[0m invalid syntax\n"
     ]
    }
   ],
   "source": [
    "str=\"vijay=23, Ganesh=20\"\n",
    "1st=[]\n",
    "for x in str.split(\",\"):\n",
    "    y=x.split(\"=\")\n",
    "    1st.append(y)\n",
    "    \n",
    "d=dict(1st)\n",
    "d1={}\n",
    "for k, v in d.items():\n",
    "    d1[k]=int(v)\n",
    "print(d1)"
   ]
  },
  {
   "cell_type": "code",
   "execution_count": 13,
   "id": "c4f81715",
   "metadata": {},
   "outputs": [
    {
     "ename": "SyntaxError",
     "evalue": "invalid syntax (Temp/ipykernel_17976/3828664150.py, line 2)",
     "output_type": "error",
     "traceback": [
      "\u001b[1;36m  File \u001b[1;32m\"C:\\Users\\DELLLA~1\\AppData\\Local\\Temp/ipykernel_17976/3828664150.py\"\u001b[1;36m, line \u001b[1;32m2\u001b[0m\n\u001b[1;33m    1st=[]\u001b[0m\n\u001b[1;37m     ^\u001b[0m\n\u001b[1;31mSyntaxError\u001b[0m\u001b[1;31m:\u001b[0m invalid syntax\n"
     ]
    }
   ],
   "source": [
    "str=\"vijay=23, Ganesh=20\"\n",
    "1st=[]\n",
    "for x in str.split(\",\"):\n",
    "    y=x.split(\"=\")"
   ]
  },
  {
   "cell_type": "code",
   "execution_count": 2,
   "id": "699de3c3",
   "metadata": {},
   "outputs": [
    {
     "name": "stdout",
     "output_type": "stream",
     "text": [
      "('A', 45)\n",
      "('B', 40)\n",
      "('R', 89)\n",
      "('T', 87)\n"
     ]
    }
   ],
   "source": [
    "temp_dict={}\n",
    "temp_dict[\"A\"] = 45\n",
    "temp_dict[\"B\"] = 40\n",
    "temp_dict[\"R\"] = 89\n",
    "temp_dict[\"T\"] = 87\n",
    "\n",
    "for p in temp_dict.items():\n",
    "    print(p)"
   ]
  },
  {
   "cell_type": "code",
   "execution_count": 5,
   "id": "2320a181",
   "metadata": {},
   "outputs": [
    {
     "ename": "SyntaxError",
     "evalue": "invalid syntax (Temp/ipykernel_18220/1646415527.py, line 1)",
     "output_type": "error",
     "traceback": [
      "\u001b[1;36m  File \u001b[1;32m\"C:\\Users\\DELLLA~1\\AppData\\Local\\Temp/ipykernel_18220/1646415527.py\"\u001b[1;36m, line \u001b[1;32m1\u001b[0m\n\u001b[1;33m    temp_dict=orderedDict{}\u001b[0m\n\u001b[1;37m                         ^\u001b[0m\n\u001b[1;31mSyntaxError\u001b[0m\u001b[1;31m:\u001b[0m invalid syntax\n"
     ]
    }
   ],
   "source": [
    "temp_dict=orderedDict{}\n",
    "temp_dict[\"A\"] = 45\n",
    "temp_dict[\"B\"] = 40\n",
    "temp_dict[\"R\"] = 89\n",
    "temp_dict[\"T\"] = 87\n",
    "\n",
    "for p in temp_dict.items():\n",
    "    print(p)"
   ]
  },
  {
   "cell_type": "code",
   "execution_count": 4,
   "id": "f5d9b6dd",
   "metadata": {},
   "outputs": [
    {
     "ename": "NameError",
     "evalue": "name 'new_dict' is not defined",
     "output_type": "error",
     "traceback": [
      "\u001b[1;31m---------------------------------------------------------------------------\u001b[0m",
      "\u001b[1;31mNameError\u001b[0m                                 Traceback (most recent call last)",
      "\u001b[1;32mC:\\Users\\DELLLA~1\\AppData\\Local\\Temp/ipykernel_18220/2765820795.py\u001b[0m in \u001b[0;36m<module>\u001b[1;34m\u001b[0m\n\u001b[0;32m      8\u001b[0m \u001b[1;33m\u001b[0m\u001b[0m\n\u001b[0;32m      9\u001b[0m \u001b[1;33m\u001b[0m\u001b[0m\n\u001b[1;32m---> 10\u001b[1;33m \u001b[0mfind_value\u001b[0m\u001b[1;33m(\u001b[0m\u001b[0mnew_dict\u001b[0m\u001b[1;33m,\u001b[0m \u001b[0mkey\u001b[0m\u001b[1;33m=\u001b[0m\u001b[1;34m\"A\"\u001b[0m\u001b[1;33m)\u001b[0m\u001b[1;33m\u001b[0m\u001b[1;33m\u001b[0m\u001b[0m\n\u001b[0m",
      "\u001b[1;31mNameError\u001b[0m: name 'new_dict' is not defined"
     ]
    }
   ],
   "source": [
    "# given a key return value from the dictionary \n",
    "\n",
    "New_dict={\"A\":{\"B\":{\"C\":\"D\"}}}\n",
    "\n",
    "def find_value(new_dict, key):\n",
    "    #logic\n",
    "    return new_dict.get(key)\n",
    "\n",
    "\n",
    "find_value(new_dict, key=\"A\")\n",
    "\n",
    "\n"
   ]
  },
  {
   "cell_type": "code",
   "execution_count": 8,
   "id": "29af91d4",
   "metadata": {},
   "outputs": [],
   "source": [
    "def find_value(dic,key=\"A\"):\n",
    "    if key in dic: return dic.get(key)\n",
    "    for k,v in dic.items():\n",
    "        if isinstance(v,dict):\n",
    "            return find_value(v,key)"
   ]
  },
  {
   "cell_type": "code",
   "execution_count": 1,
   "id": "9ef94d7b",
   "metadata": {},
   "outputs": [
    {
     "ename": "NameError",
     "evalue": "name 'find_value' is not defined",
     "output_type": "error",
     "traceback": [
      "\u001b[1;31m---------------------------------------------------------------------------\u001b[0m",
      "\u001b[1;31mNameError\u001b[0m                                 Traceback (most recent call last)",
      "\u001b[1;32mC:\\Users\\DELLLA~1\\AppData\\Local\\Temp/ipykernel_16060/183967402.py\u001b[0m in \u001b[0;36m<module>\u001b[1;34m\u001b[0m\n\u001b[1;32m----> 1\u001b[1;33m \u001b[0mfind_value\u001b[0m\u001b[1;33m(\u001b[0m\u001b[0mnew_dict\u001b[0m\u001b[1;33m,\u001b[0m\u001b[1;34m\"C\"\u001b[0m\u001b[1;33m)\u001b[0m\u001b[1;33m\u001b[0m\u001b[1;33m\u001b[0m\u001b[0m\n\u001b[0m",
      "\u001b[1;31mNameError\u001b[0m: name 'find_value' is not defined"
     ]
    }
   ],
   "source": [
    "find_value(new_dict,\"C\")"
   ]
  },
  {
   "cell_type": "code",
   "execution_count": 5,
   "id": "84ce3f15",
   "metadata": {},
   "outputs": [
    {
     "name": "stdout",
     "output_type": "stream",
     "text": [
      "YES, there is at least one match!\n"
     ]
    }
   ],
   "source": [
    "import re\n",
    "txt = \"The rain in Spain\"\n",
    "x =re.search(\"^The.*Spain$\", txt)\n",
    "if x:\n",
    "    print(\"YES, there is at least one match!\")\n",
    "else:\n",
    "    print(\"no match\")"
   ]
  },
  {
   "cell_type": "code",
   "execution_count": null,
   "id": "1b7f6491",
   "metadata": {},
   "outputs": [],
   "source": []
  }
 ],
 "metadata": {
  "kernelspec": {
   "display_name": "Python 3 (ipykernel)",
   "language": "python",
   "name": "python3"
  },
  "language_info": {
   "codemirror_mode": {
    "name": "ipython",
    "version": 3
   },
   "file_extension": ".py",
   "mimetype": "text/x-python",
   "name": "python",
   "nbconvert_exporter": "python",
   "pygments_lexer": "ipython3",
   "version": "3.9.7"
  }
 },
 "nbformat": 4,
 "nbformat_minor": 5
}
